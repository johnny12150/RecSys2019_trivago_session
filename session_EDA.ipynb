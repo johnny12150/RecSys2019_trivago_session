{
 "cells": [
  {
   "cell_type": "code",
   "execution_count": 1,
   "metadata": {
    "collapsed": true,
    "pycharm": {
     "is_executing": false
    }
   },
   "outputs": [
    {
     "name": "stdout",
     "text": [
      "<class 'pandas.core.frame.DataFrame'>\n",
      "RangeIndex: 15932992 entries, 0 to 15932991\n",
      "Data columns (total 12 columns):\n",
      "user_id            object\n",
      "session_id         object\n",
      "timestamp          int64\n",
      "step               int64\n",
      "action_type        object\n",
      "reference          object\n",
      "platform           object\n",
      "city               object\n",
      "device             object\n",
      "current_filters    object\n",
      "impressions        object\n",
      "prices             object\n",
      "dtypes: int64(2), object(10)\n",
      "memory usage: 1.4+ GB\n",
      "None\n"
     ],
     "output_type": "stream"
    }
   ],
   "source": [
    "# https://stackoverflow.com/questions/32565829/simple-way-to-measure-cell-execution-time-in-ipython-notebook\n",
    "# https://github.com/ipython/ipython/issues/11659/\n",
    "# https://github.com/jupyter/notebook/issues/4532\n",
    "# %%time\n",
    "import pandas as pd\n",
    "\n",
    "train_seesion = pd.read_csv(\"data/train.csv\")\n",
    "\n",
    "print(train_seesion.info())"
   ]
  },
  {
   "cell_type": "code",
   "execution_count": 2,
   "outputs": [
    {
     "name": "stdout",
     "text": [
      "user_id                   0\n",
      "session_id                0\n",
      "timestamp                 0\n",
      "step                      0\n",
      "action_type               0\n",
      "reference                 0\n",
      "platform                  0\n",
      "city                      0\n",
      "device                    0\n",
      "current_filters    14779880\n",
      "impressions        14346406\n",
      "prices             14346406\n",
      "dtype: int64\n"
     ],
     "output_type": "stream"
    }
   ],
   "source": [
    "print(train_seesion.isna().sum())\n"
   ],
   "metadata": {
    "collapsed": false,
    "pycharm": {
     "name": "#%%\n",
     "is_executing": false
    }
   }
  },
  {
   "cell_type": "code",
   "execution_count": 3,
   "outputs": [
    {
     "name": "stdout",
     "text": [
      "(15932992, 12)\n",
      "3167404ed3197    3522\n",
      "948641e533837    2816\n",
      "9233fb83c116b    2800\n",
      "191ae48e3cb8e    2648\n",
      "c9b863c921a2d    2640\n",
      "c4dc91b78ded1    2518\n",
      "4c8e1e29b93fc    2340\n",
      "b34847506ba7f    2310\n",
      "58a263c18b945    2219\n",
      "e9a8f4e36ea10    2216\n",
      "2dd4366e0281b    2202\n",
      "dd860a98689dc    2136\n",
      "8eea581149f28    2127\n",
      "c74f4c8eedaeb    2121\n",
      "445f6567e56e3    2078\n",
      "631d295e63a12    2047\n",
      "f5d50ad0db309    1977\n",
      "e8d78f45dd228    1887\n",
      "4e813b377f616    1848\n",
      "555ccf0e4ddca    1783\n",
      "Name: session_id, dtype: int64\n",
      "910683\n"
     ],
     "output_type": "stream"
    }
   ],
   "source": [
    "print(train_seesion.shape)\n",
    "print(train_seesion['session_id'].value_counts()[:20])\n",
    "print(len(train_seesion['session_id'].value_counts()))"
   ],
   "metadata": {
    "collapsed": false,
    "pycharm": {
     "name": "#%%\n",
     "is_executing": false
    }
   }
  },
  {
   "cell_type": "code",
   "execution_count": 4,
   "outputs": [
    {
     "name": "stdout",
     "text": [
      "interaction item image     11860750\n",
      "clickout item               1586586\n",
      "filter selection             695917\n",
      "search for destination       403066\n",
      "change of sort order         400584\n",
      "interaction item info        285402\n",
      "interaction item rating      217246\n",
      "interaction item deals       193794\n",
      "search for item              152203\n",
      "search for poi               137444\n",
      "Name: action_type, dtype: int64\n"
     ],
     "output_type": "stream"
    }
   ],
   "source": [
    "print(train_seesion['action_type'].value_counts())"
   ],
   "metadata": {
    "collapsed": false,
    "pycharm": {
     "name": "#%%\n",
     "is_executing": false
    }
   }
  },
  {
   "cell_type": "code",
   "execution_count": 5,
   "outputs": [
    {
     "name": "stdout",
     "text": [
      "London, United Kingdom            326255\n",
      "Paris, France                     262060\n",
      "Istanbul, Turkey                  230458\n",
      "New York, USA                     223320\n",
      "Rio de Janeiro, Brazil            161973\n",
      "Amsterdam, Netherlands            150529\n",
      "Rome, Italy                       146798\n",
      "Cancun, Mexico                    146004\n",
      "Tokyo, Japan                      141557\n",
      "Berlin, Germany                   134252\n",
      "Dubai, United Arab Emirates       131856\n",
      "Madrid, Spain                     114867\n",
      "Las Vegas, USA                    113909\n",
      "Barcelona, Spain                  113603\n",
      "Prague, Czech Republic            110418\n",
      "São Paulo, Brazil                 109647\n",
      "Natal, Brazil                      91862\n",
      "Florianópolis, Brazil              90947\n",
      "Buenos Aires, Argentina            90332\n",
      "Orlando, USA                       89753\n",
      "Bangkok, Thailand                  88897\n",
      "Kuala Lumpur, Malaysia             79968\n",
      "Miami Beach, USA                   79568\n",
      "Vienna, Austria                    78232\n",
      "Porto Seguro, Brazil               77477\n",
      "Milan, Italy                       75906\n",
      "Foz do Iguaçu, Brazil              75312\n",
      "Playa del Carmen, Mexico           75266\n",
      "Osaka, Japan                       75234\n",
      "Hamburg, Germany                   73813\n",
      "                                   ...  \n",
      "Maggia, Switzerland                    1\n",
      "El Serrat, Andorra                     1\n",
      "Ferrières, Belgium                     1\n",
      "Vännäs, Sweden                         1\n",
      "Central District, Taiwan               1\n",
      "Le Val, France                         1\n",
      "Altinópolis, Brazil                    1\n",
      "Tisleidalen, Norway                    1\n",
      "Queyrac, France                        1\n",
      "Campodipietra, Italy                   1\n",
      "Hickstead, United Kingdom              1\n",
      "Egelsbach, Germany                     1\n",
      "Anaura Bay, New Zealand                1\n",
      "Guaro, Spain                           1\n",
      "Vromolimnos, Greece                    1\n",
      "Geisfeld, Germany                      1\n",
      "Halton Hills, Canada                   1\n",
      "Rouffiac-Tolosan, France               1\n",
      "Tambre, Italy                          1\n",
      "Middlewich, United Kingdom             1\n",
      "Monteviale, Italy                      1\n",
      "Mátraderecske, Hungary                 1\n",
      "Lae, Papua New Guinea                  1\n",
      "Flumserberg Saxli, Switzerland         1\n",
      "Hikari, Japan                          1\n",
      "Mascalucia, Italy                      1\n",
      "Sakegawa, Japan                        1\n",
      "Bourg-Charente, France                 1\n",
      "Grand Bay, Canada                      1\n",
      "Pense, Canada                          1\n",
      "Name: city, Length: 34752, dtype: int64\n"
     ],
     "output_type": "stream"
    }
   ],
   "source": [
    "print(train_seesion['city'].value_counts())\n"
   ],
   "metadata": {
    "collapsed": false,
    "pycharm": {
     "name": "#%%\n",
     "is_executing": false
    }
   }
  },
  {
   "cell_type": "code",
   "execution_count": 6,
   "outputs": [
    {
     "name": "stdout",
     "text": [
      "(927142, 2)\n",
      "   item_id                                         properties\n",
      "0     5101  Satellite TV|Golf Course|Airport Shuttle|Cosme...\n",
      "1     5416  Satellite TV|Cosmetic Mirror|Safe (Hotel)|Tele...\n",
      "2     5834  Satellite TV|Cosmetic Mirror|Safe (Hotel)|Tele...\n",
      "3     5910  Satellite TV|Sailing|Cosmetic Mirror|Telephone...\n",
      "4     6066  Satellite TV|Sailing|Diving|Cosmetic Mirror|Sa...\n"
     ],
     "output_type": "stream"
    }
   ],
   "source": [
    "# 飯店特色\n",
    "hotel = pd.read_csv('data/item_metadata.csv')\n",
    "\n",
    "print(hotel.shape)\n",
    "print(hotel.head())"
   ],
   "metadata": {
    "collapsed": false,
    "pycharm": {
     "name": "#%%\n",
     "is_executing": false
    }
   }
  },
  {
   "cell_type": "code",
   "execution_count": 6,
   "outputs": [],
   "source": [
    "\n"
   ],
   "metadata": {
    "collapsed": false,
    "pycharm": {
     "name": "#%%\n",
     "is_executing": false
    }
   }
  }
 ],
 "metadata": {
  "kernelspec": {
   "display_name": "Python 3",
   "language": "python",
   "name": "python3"
  },
  "language_info": {
   "codemirror_mode": {
    "name": "ipython",
    "version": 2
   },
   "file_extension": ".py",
   "mimetype": "text/x-python",
   "name": "python",
   "nbconvert_exporter": "python",
   "pygments_lexer": "ipython2",
   "version": "2.7.6"
  },
  "pycharm": {
   "stem_cell": {
    "cell_type": "raw",
    "source": [],
    "metadata": {
     "collapsed": false
    }
   }
  }
 },
 "nbformat": 4,
 "nbformat_minor": 0
}